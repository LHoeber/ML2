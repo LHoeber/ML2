{
 "cells": [
  {
   "cell_type": "code",
   "execution_count": 3,
   "metadata": {},
   "outputs": [
    {
     "name": "stdout",
     "output_type": "stream",
     "text": [
      "[[0.25 0.25]\n",
      " [0.75 0.25]\n",
      " [0.5  0.75]]\n",
      "(3, 2, 2)\n",
      "[[1.31094001 2.29207126]\n",
      " [0.66312816 3.79497884]\n",
      " [0.39974474 3.83042598]\n",
      " [3.47059369 0.24598159]\n",
      " [3.60055175 3.14958547]]\n"
     ]
    }
   ],
   "source": [
    "import numpy as np\n",
    "mu_1 = 1/4*np.array([1,1])\n",
    "mu_2 = 1/4*np.array([3,1])\n",
    "mu_3 = 1/4*np.array([2,3])\n",
    "mu = np.array([mu_1,mu_2,mu_3])\n",
    "\n",
    "sig_1 = 0.01*np.eye(2)\n",
    "sig_2 = np.copy(sig_1)\n",
    "sig_3 = np.copy(sig_1)\n",
    "sig = np.array([sig_1,sig_2,sig_3])\n",
    "\n",
    "print(mu)\n",
    "print(sig.shape)\n",
    "\n",
    "print(np.random.uniform(low=0, high=4, size=(5, 2)))\n",
    "\n"
   ]
  },
  {
   "cell_type": "code",
   "execution_count": null,
   "metadata": {},
   "outputs": [],
   "source": []
  }
 ],
 "metadata": {
  "kernelspec": {
   "display_name": "Python 3",
   "language": "python",
   "name": "python3"
  },
  "language_info": {
   "codemirror_mode": {
    "name": "ipython",
    "version": 3
   },
   "file_extension": ".py",
   "mimetype": "text/x-python",
   "name": "python",
   "nbconvert_exporter": "python",
   "pygments_lexer": "ipython3",
   "version": "3.9.7"
  }
 },
 "nbformat": 4,
 "nbformat_minor": 2
}

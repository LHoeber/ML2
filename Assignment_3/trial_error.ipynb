{
 "cells": [
  {
   "cell_type": "code",
   "execution_count": 2,
   "metadata": {},
   "outputs": [
    {
     "name": "stdout",
     "output_type": "stream",
     "text": [
      "[[0.25 0.25]\n",
      " [0.75 0.25]\n",
      " [0.5  0.75]]\n",
      "(3, 2, 2)\n",
      "[[0.0906579  3.74754966]\n",
      " [1.08984721 0.72013018]\n",
      " [0.15383507 2.08039481]\n",
      " [0.76200547 0.33564612]\n",
      " [0.56158501 3.08660782]]\n"
     ]
    }
   ],
   "source": [
    "import numpy as np\n",
    "mu_1 = 1/4*np.array([1,1])\n",
    "mu_2 = 1/4*np.array([3,1])\n",
    "mu_3 = 1/4*np.array([2,3])\n",
    "mu = np.array([mu_1,mu_2,mu_3])\n",
    "\n",
    "sig_1 = 0.01*np.eye(2)\n",
    "sig_2 = np.copy(sig_1)\n",
    "sig_3 = np.copy(sig_1)\n",
    "sig = np.array([sig_1,sig_2,sig_3])\n",
    "\n",
    "print(mu)\n",
    "print(sig.shape)\n",
    "\n",
    "print(np.random.uniform(low=0, high=4, size=(5, 2)))\n",
    "\n"
   ]
  },
  {
   "cell_type": "code",
   "execution_count": 3,
   "metadata": {},
   "outputs": [
    {
     "name": "stdout",
     "output_type": "stream",
     "text": [
      "2\n",
      "1\n",
      "0\n"
     ]
    }
   ],
   "source": [
    "for i in range(2,-1,-1):\n",
    "    print(i)"
   ]
  },
  {
   "cell_type": "code",
   "execution_count": 8,
   "metadata": {},
   "outputs": [
    {
     "data": {
      "text/plain": [
       "array([2, 2, 2, 1])"
      ]
     },
     "execution_count": 8,
     "metadata": {},
     "output_type": "execute_result"
    }
   ],
   "source": [
    "idx_sigma = np.random.randint(0, 3, 4)\n",
    "idx_sigma"
   ]
  },
  {
   "cell_type": "code",
   "execution_count": null,
   "metadata": {},
   "outputs": [],
   "source": []
  }
 ],
 "metadata": {
  "kernelspec": {
   "display_name": "Python 3",
   "language": "python",
   "name": "python3"
  },
  "language_info": {
   "codemirror_mode": {
    "name": "ipython",
    "version": 3
   },
   "file_extension": ".py",
   "mimetype": "text/x-python",
   "name": "python",
   "nbconvert_exporter": "python",
   "pygments_lexer": "ipython3",
   "version": "3.9.7"
  }
 },
 "nbformat": 4,
 "nbformat_minor": 2
}

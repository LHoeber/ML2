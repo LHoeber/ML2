{
 "cells": [
  {
   "cell_type": "code",
   "execution_count": 9,
   "metadata": {},
   "outputs": [],
   "source": [
    "import numpy as np\n",
    "import matplotlib.pyplot as plt"
   ]
  },
  {
   "cell_type": "code",
   "execution_count": 10,
   "metadata": {},
   "outputs": [
    {
     "name": "stdout",
     "output_type": "stream",
     "text": [
      "[[1 2 3 4]\n",
      " [1 2 3 4]\n",
      " [1 2 3 4]\n",
      " [1 2 3 4]]\n"
     ]
    }
   ],
   "source": [
    "x = np.array([1,2,3,4])\n",
    "\n",
    "X1 = np.tile(x,(len(x),1))\n",
    "print(X1)"
   ]
  },
  {
   "cell_type": "code",
   "execution_count": 11,
   "metadata": {},
   "outputs": [
    {
     "data": {
      "text/plain": [
       "array([0.70864831, 0.08171591, 0.74625195, 0.70845557, 0.96532157,\n",
       "       0.82344089])"
      ]
     },
     "execution_count": 11,
     "metadata": {},
     "output_type": "execute_result"
    }
   ],
   "source": [
    "np.random.rand(6)"
   ]
  },
  {
   "cell_type": "code",
   "execution_count": 12,
   "metadata": {},
   "outputs": [
    {
     "name": "stdout",
     "output_type": "stream",
     "text": [
      "[0.98116536]\n"
     ]
    }
   ],
   "source": [
    "R = 1\n",
    "z_j = np.array([np.random.uniform(0,2*np.pi) for r in range(R)])\n",
    "print(z_j)"
   ]
  },
  {
   "cell_type": "code",
   "execution_count": 14,
   "metadata": {},
   "outputs": [
    {
     "name": "stdout",
     "output_type": "stream",
     "text": [
      "[[-3.         -1.34968629]\n",
      " [-1.         -0.82245135]\n",
      " [ 1.         -0.55543474]\n",
      " [ 3.          1.2452958 ]]\n",
      "[[-3.         -1.34968629]\n",
      " [-3.         -1.34968629]]\n",
      "[[-3.         -1.34968629]\n",
      " [ 1.         -0.55543474]]\n"
     ]
    },
    {
     "data": {
      "text/plain": [
       "array([0, 1, 2, 3])"
      ]
     },
     "execution_count": 14,
     "metadata": {},
     "output_type": "execute_result"
    }
   ],
   "source": [
    "N = 4\n",
    "D = 2\n",
    "X = np.ones((N,D))\n",
    "X[:,0] = np.linspace(-3.,3.,N)\n",
    "X[:,1] = np.sort(np.random.randn(N))\n",
    "\n",
    "print(X)\n",
    "print(X[np.random.choice(np.arange(0,X.shape[0]),2)])\n",
    "print(X[np.random.choice(X.shape[0], 2)])\n",
    "np.arange(0,X.shape[0])\n"
   ]
  },
  {
   "cell_type": "code",
   "execution_count": null,
   "metadata": {},
   "outputs": [],
   "source": []
  }
 ],
 "metadata": {
  "kernelspec": {
   "display_name": "Python 3",
   "language": "python",
   "name": "python3"
  },
  "language_info": {
   "codemirror_mode": {
    "name": "ipython",
    "version": 3
   },
   "file_extension": ".py",
   "mimetype": "text/x-python",
   "name": "python",
   "nbconvert_exporter": "python",
   "pygments_lexer": "ipython3",
   "version": "3.9.7"
  }
 },
 "nbformat": 4,
 "nbformat_minor": 2
}
